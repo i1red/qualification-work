{
 "cells": [
  {
   "cell_type": "markdown",
   "id": "a907fd17-8a0f-453c-b897-bb2b5c015517",
   "metadata": {
    "tags": []
   },
   "source": [
    "### Load data"
   ]
  },
  {
   "cell_type": "code",
   "execution_count": null,
   "id": "125eecdf-d682-4dc6-99ae-556968befa90",
   "metadata": {},
   "outputs": [],
   "source": [
    "import os\n",
    "import pandas as pd"
   ]
  },
  {
   "cell_type": "code",
   "execution_count": null,
   "id": "f27ccc33-d54e-4234-8e40-b6126bfe000f",
   "metadata": {},
   "outputs": [],
   "source": [
    "DATA_DIR = os.path.join(os.path.realpath(''), 'data', 'homogeneous')\n",
    "\n",
    "p2p_df = pd.read_csv(os.path.join(DATA_DIR, 'p2p.csv'))\n",
    "terms_df = pd.read_csv(os.path.join(DATA_DIR, 'terms.csv'))\n",
    "labels_df = pd.read_csv(os.path.join(DATA_DIR, 'labels.csv'))"
   ]
  },
  {
   "cell_type": "code",
   "execution_count": null,
   "id": "47b31ff5-03c3-4a20-afc7-8e4464fa4d8d",
   "metadata": {},
   "outputs": [],
   "source": [
    "from graph_ml.utility.graph_representation import normalize_adj_matrix"
   ]
  },
  {
   "cell_type": "code",
   "execution_count": null,
   "id": "e5ff0dbe-4da2-4dc6-98d8-1205544d3cbe",
   "metadata": {},
   "outputs": [],
   "source": [
    "norm_adj_matrix = normalize_adj_matrix(p2p_df.to_numpy(), add_self_connection=True)\n",
    "terms = terms_df.to_numpy()\n",
    "labels = labels_df['Label'].to_numpy()"
   ]
  },
  {
   "cell_type": "markdown",
   "id": "b85cd26b-0e0f-41b4-836b-454902474aba",
   "metadata": {
    "tags": []
   },
   "source": [
    "### Split data"
   ]
  },
  {
   "cell_type": "code",
   "execution_count": null,
   "id": "c282ce19-7fea-4749-9a98-a7ff0c90ada5",
   "metadata": {},
   "outputs": [],
   "source": [
    "import numpy as np\n",
    "from sklearn.model_selection import train_test_split"
   ]
  },
  {
   "cell_type": "code",
   "execution_count": null,
   "id": "039d9637-e17a-4694-acef-8dcbc53817bb",
   "metadata": {},
   "outputs": [],
   "source": [
    "train_indices, test_indices, train_labels, test_labels = train_test_split(np.arange(len(labels)), labels, test_size=0.2, random_state=0)"
   ]
  },
  {
   "cell_type": "markdown",
   "id": "d874ae10-bb3b-42c4-8465-c39248a0dfd0",
   "metadata": {},
   "source": [
    "### GCN Model"
   ]
  },
  {
   "cell_type": "code",
   "execution_count": null,
   "id": "dedcb712-0cc4-44b6-a864-723cbd135fd3",
   "metadata": {},
   "outputs": [],
   "source": [
    "import tensorflow as tf\n",
    "from tensorflow.keras import Model\n",
    "from tensorflow.keras import layers as l\n",
    "\n",
    "from graph_ml.utility.feed_forward_layer import FeedForwardLayer\n",
    "from graph_ml.gnn.gcn.gcn_layer import GCNLayer"
   ]
  },
  {
   "cell_type": "code",
   "execution_count": null,
   "id": "deb9ff2c-a8d3-4fdb-acd6-88464a77d071",
   "metadata": {},
   "outputs": [],
   "source": [
    "class GCNClassifier(Model):\n",
    "    def __init__(self, node_features, norm_adj_matrix, num_classes):\n",
    "        super().__init__()\n",
    "        \n",
    "        norm_adj_matrix = tf.constant(norm_adj_matrix, dtype=tf.float32)\n",
    "        \n",
    "        self.node_features = tf.constant(node_features, dtype=tf.float32)\n",
    "        \n",
    "        self.preprocessing1 = FeedForwardLayer([512])\n",
    "        \n",
    "        self.gcn1 = GCNLayer(norm_adj_matrix, hidden_units=[384, 256])\n",
    "        self.gcn2 = GCNLayer(norm_adj_matrix, hidden_units=[256, 192])\n",
    "        self.gcn3 = GCNLayer(norm_adj_matrix, hidden_units=[192, 96])\n",
    "        \n",
    "        self.postprocessing1 = FeedForwardLayer([64])\n",
    "\n",
    "        self.logits1 = l.Dense(num_classes)\n",
    "        self.softmax1 = l.Softmax()\n",
    "        \n",
    "    def call(self, indices):\n",
    "        features = self.preprocessing1(self.node_features)\n",
    "        \n",
    "        features = self.gcn1(features)\n",
    "        features = self.gcn2(features)\n",
    "        features = self.gcn3(features)\n",
    "        \n",
    "        features = tf.gather(features, indices)\n",
    "        \n",
    "        features = self.postprocessing1(features)\n",
    "        logits = self.logits1(features)\n",
    "        return self.softmax1(logits)"
   ]
  },
  {
   "cell_type": "markdown",
   "id": "c5886153-5de7-4108-a683-dd9ea2af0dde",
   "metadata": {},
   "source": [
    "### Classify nodes"
   ]
  },
  {
   "cell_type": "code",
   "execution_count": null,
   "id": "5df709f9-5161-4555-83d7-07e6a86997f4",
   "metadata": {},
   "outputs": [],
   "source": [
    "from tensorflow.keras.optimizers import Adam\n",
    "from tensorflow.keras.losses import SparseCategoricalCrossentropy\n",
    "from tensorflow.keras.metrics import SparseCategoricalAccuracy"
   ]
  },
  {
   "cell_type": "code",
   "execution_count": null,
   "id": "870a090b-b138-43c0-bdf2-94bedbc209f5",
   "metadata": {},
   "outputs": [],
   "source": [
    "num_classes = len(set(labels))\n",
    "\n",
    "model = GCNClassifier(terms, norm_adj_matrix, num_classes)\n",
    "model.compile(optimizer=Adam(1e-4), loss=SparseCategoricalCrossentropy(), metrics=[SparseCategoricalAccuracy(name=\"accuracy\")])\n",
    "_ = model.fit(x=train_indices, y=labels[train_indices], batch_size=500, epochs=20, validation_split=0.2, verbose=0)"
   ]
  },
  {
   "cell_type": "code",
   "execution_count": null,
   "id": "4806651d-7d88-4cd3-8245-87d9956c69bc",
   "metadata": {},
   "outputs": [],
   "source": [
    "from sklearn.metrics import classification_report"
   ]
  },
  {
   "cell_type": "code",
   "execution_count": null,
   "id": "ec292fbe-a8c2-4f45-be57-96716db8902d",
   "metadata": {},
   "outputs": [],
   "source": [
    "true_labels = labels[test_indices]\n",
    "predicted_labels = model(test_indices).numpy().argmax(axis=1)\n",
    "print(classification_report(true_labels, predicted_labels))"
   ]
  }
 ],
 "metadata": {
  "kernelspec": {
   "display_name": "tf_conda_3.9",
   "language": "python",
   "name": "tf_conda_3.9"
  },
  "language_info": {
   "codemirror_mode": {
    "name": "ipython",
    "version": 3
   },
   "file_extension": ".py",
   "mimetype": "text/x-python",
   "name": "python",
   "nbconvert_exporter": "python",
   "pygments_lexer": "ipython3",
   "version": "3.9.12"
  }
 },
 "nbformat": 4,
 "nbformat_minor": 5
}
