{
 "cells": [
  {
   "cell_type": "markdown",
   "id": "7893f103-24a9-45a8-9ef9-12e1b11fa271",
   "metadata": {
    "tags": []
   },
   "source": [
    "### Load data"
   ]
  },
  {
   "cell_type": "code",
   "execution_count": null,
   "id": "a7e001a2-6d6a-44ef-91c0-38b33cd0f9ca",
   "metadata": {},
   "outputs": [],
   "source": [
    "import os\n",
    "import pandas as pd"
   ]
  },
  {
   "cell_type": "code",
   "execution_count": null,
   "id": "65abd405-aff7-469b-9f0a-ff5b3dd02d5e",
   "metadata": {},
   "outputs": [],
   "source": [
    "DATA_DIR = os.path.join(os.path.realpath(''), 'data', 'homogeneous')\n",
    "\n",
    "p2p_df = pd.read_csv(os.path.join(DATA_DIR, 'p2p.csv'))\n",
    "terms_df = pd.read_csv(os.path.join(DATA_DIR, 'terms.csv'))\n",
    "labels_df = pd.read_csv(os.path.join(DATA_DIR, 'labels.csv'))"
   ]
  },
  {
   "cell_type": "code",
   "execution_count": null,
   "id": "61f15e2e-ce4a-41d4-925e-53430fd91328",
   "metadata": {},
   "outputs": [],
   "source": [
    "from graph_ml.utility.graph_representation import adj_matrix_to_edges"
   ]
  },
  {
   "cell_type": "code",
   "execution_count": null,
   "id": "53e7be5a-f5bd-497a-9556-f56c4538a584",
   "metadata": {},
   "outputs": [],
   "source": [
    "edges = adj_matrix_to_edges(p2p_df.to_numpy())\n",
    "terms = terms_df.to_numpy()\n",
    "labels = labels_df['Label'].to_numpy()"
   ]
  },
  {
   "cell_type": "markdown",
   "id": "95e00159-4ca1-4e9e-9a11-36a17eec4a93",
   "metadata": {
    "tags": []
   },
   "source": [
    "### Split data"
   ]
  },
  {
   "cell_type": "code",
   "execution_count": null,
   "id": "e60962f2-684a-412a-8cca-38cfdc4c1ded",
   "metadata": {},
   "outputs": [],
   "source": [
    "import numpy as np\n",
    "from sklearn.model_selection import train_test_split"
   ]
  },
  {
   "cell_type": "code",
   "execution_count": null,
   "id": "0d324be5-b353-4823-8603-2ece04bc715a",
   "metadata": {},
   "outputs": [],
   "source": [
    "train_indices, test_indices, train_labels, test_labels = train_test_split(np.arange(len(labels)), labels, test_size=0.2, random_state=0)"
   ]
  },
  {
   "cell_type": "markdown",
   "id": "d4827aa8-0dee-4757-87e4-94a839f1379c",
   "metadata": {},
   "source": [
    "### GAT Model"
   ]
  },
  {
   "cell_type": "code",
   "execution_count": null,
   "id": "08bf72ed-9fab-4e47-b81a-3a8192b79a5b",
   "metadata": {},
   "outputs": [],
   "source": [
    "import tensorflow as tf\n",
    "from tensorflow.keras import Model\n",
    "from tensorflow.keras import layers as l\n",
    "\n",
    "from graph_ml.utility.feed_forward_layer import FeedForwardLayer\n",
    "from graph_ml.gnn.gat.gat_layer import MultiHeadGATLayer"
   ]
  },
  {
   "cell_type": "code",
   "execution_count": null,
   "id": "7553f803-c605-4d81-926a-ed4422d1b03f",
   "metadata": {},
   "outputs": [],
   "source": [
    "class GATClassifier(Model):\n",
    "    def __init__(self, node_features, edges, num_classes):\n",
    "        super().__init__()\n",
    "        \n",
    "        edges = tf.constant(edges)\n",
    "        \n",
    "        self.node_features = tf.constant(node_features, dtype=tf.float32)\n",
    "        \n",
    "        node_count, _ = node_features.shape\n",
    "        attention_adj_matrix_shape = (node_count, node_count)\n",
    "        \n",
    "        self.preprocessing1 = FeedForwardLayer([512])\n",
    "        \n",
    "        self.gat1 = MultiHeadGATLayer(edges, attention_adj_matrix_shape, hidden_units=[128, 96])\n",
    "        self.gat2 = MultiHeadGATLayer(edges, attention_adj_matrix_shape, hidden_units=[96, 64])\n",
    "        self.gat3 = MultiHeadGATLayer(edges, attention_adj_matrix_shape, hidden_units=[64, 32])\n",
    "        \n",
    "        self.postprocessing1 = FeedForwardLayer([64])\n",
    "\n",
    "        self.logits1 = l.Dense(num_classes)\n",
    "        self.softmax1 = l.Softmax()\n",
    "        \n",
    "    def call(self, indices):\n",
    "        features = self.preprocessing1(self.node_features)\n",
    "        \n",
    "        features = self.gat1(features)\n",
    "        features = self.gat2(features)\n",
    "        features = self.gat3(features)\n",
    "        \n",
    "        features = tf.gather(features, indices)\n",
    "        \n",
    "        features = self.postprocessing1(features)\n",
    "        logits = self.logits1(features)\n",
    "        return self.softmax1(logits)"
   ]
  },
  {
   "cell_type": "markdown",
   "id": "1d2f3996-bd07-43ad-9904-d0a47c08f409",
   "metadata": {},
   "source": [
    "### Classify nodes"
   ]
  },
  {
   "cell_type": "code",
   "execution_count": null,
   "id": "6c7d73ed-39c8-4e74-b29c-861a878529cd",
   "metadata": {},
   "outputs": [],
   "source": [
    "import warnings\n",
    "from tensorflow.keras.optimizers import Adam\n",
    "from tensorflow.keras.losses import SparseCategoricalCrossentropy\n",
    "from tensorflow.keras.metrics import SparseCategoricalAccuracy"
   ]
  },
  {
   "cell_type": "code",
   "execution_count": null,
   "id": "98f3e3f4-0aa3-4032-85be-d98111a5ced6",
   "metadata": {},
   "outputs": [],
   "source": [
    "warnings.filterwarnings('ignore')\n",
    "num_classes = len(set(labels))\n",
    "\n",
    "model = GATClassifier(terms, edges, num_classes)\n",
    "model.compile(optimizer=Adam(1e-4), loss=SparseCategoricalCrossentropy(), metrics=[SparseCategoricalAccuracy(name=\"accuracy\")])\n",
    "_ = model.fit(x=train_indices, y=labels[train_indices], batch_size=500, epochs=20, validation_split=0.2, verbose=0)"
   ]
  },
  {
   "cell_type": "code",
   "execution_count": null,
   "id": "10408c7c-be9b-49eb-b8f9-9e99019d465e",
   "metadata": {},
   "outputs": [],
   "source": [
    "from sklearn.metrics import classification_report"
   ]
  },
  {
   "cell_type": "code",
   "execution_count": null,
   "id": "83dbe14c-32a0-461b-8c52-2878451619c4",
   "metadata": {},
   "outputs": [],
   "source": [
    "true_labels = labels[test_indices]\n",
    "predicted_labels = model(test_indices).numpy().argmax(axis=1)\n",
    "print(classification_report(true_labels, predicted_labels))"
   ]
  }
 ],
 "metadata": {
  "kernelspec": {
   "display_name": "tf_conda_3.9",
   "language": "python",
   "name": "tf_conda_3.9"
  },
  "language_info": {
   "codemirror_mode": {
    "name": "ipython",
    "version": 3
   },
   "file_extension": ".py",
   "mimetype": "text/x-python",
   "name": "python",
   "nbconvert_exporter": "python",
   "pygments_lexer": "ipython3",
   "version": "3.9.12"
  }
 },
 "nbformat": 4,
 "nbformat_minor": 5
}
