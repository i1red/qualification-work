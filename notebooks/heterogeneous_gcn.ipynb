{
 "cells": [
  {
   "cell_type": "markdown",
   "id": "9f856831-773d-445a-98a7-3080667be55e",
   "metadata": {
    "tags": []
   },
   "source": [
    "### Load data"
   ]
  },
  {
   "cell_type": "code",
   "execution_count": null,
   "id": "b23ca390-84cc-40bc-8bd1-e5471f41d981",
   "metadata": {},
   "outputs": [],
   "source": [
    "import os\n",
    "import pandas as pd"
   ]
  },
  {
   "cell_type": "code",
   "execution_count": null,
   "id": "128d1b3b-4eb6-4148-a838-9369f3d38df9",
   "metadata": {},
   "outputs": [],
   "source": [
    "DATA_DIR = os.path.join(os.path.realpath(''), 'data', 'heterogeneous')\n",
    "\n",
    "p2p_df = pd.read_csv(os.path.join(DATA_DIR, 'p2p.csv'))\n",
    "p2a_df = pd.read_csv(os.path.join(DATA_DIR, 'p2a.csv'))\n",
    "terms_df = pd.read_csv(os.path.join(DATA_DIR, 'terms.csv'))\n",
    "labels_df = pd.read_csv(os.path.join(DATA_DIR, 'labels.csv'))"
   ]
  },
  {
   "cell_type": "code",
   "execution_count": null,
   "id": "15adc996-6977-4fc4-889d-f70e908e4af3",
   "metadata": {},
   "outputs": [],
   "source": [
    "from graph_ml.utility.graph_representation import normalize_adj_matrix"
   ]
  },
  {
   "cell_type": "code",
   "execution_count": null,
   "id": "aeebb7ee-74df-4c6b-b3cd-0caddfe00279",
   "metadata": {},
   "outputs": [],
   "source": [
    "norm_p2p = normalize_adj_matrix(p2p_df.to_numpy(), add_self_connection=True)\n",
    "norm_p2a = normalize_adj_matrix(p2a_df.to_numpy())\n",
    "terms = terms_df.to_numpy()\n",
    "labels = labels_df['Label'].to_numpy()"
   ]
  },
  {
   "cell_type": "markdown",
   "id": "75b026e7-e574-4f5f-85c6-542041753d77",
   "metadata": {
    "tags": []
   },
   "source": [
    "### Split data"
   ]
  },
  {
   "cell_type": "code",
   "execution_count": null,
   "id": "b44e73aa-e075-43d5-91ca-3d4929119efb",
   "metadata": {},
   "outputs": [],
   "source": [
    "import numpy as np\n",
    "from sklearn.model_selection import train_test_split"
   ]
  },
  {
   "cell_type": "code",
   "execution_count": null,
   "id": "778ed09d-0bb8-4d1d-a88e-dae9929ba6fc",
   "metadata": {},
   "outputs": [],
   "source": [
    "train_indices, test_indices, train_labels, test_labels = train_test_split(np.arange(len(labels)), labels, test_size=0.2, random_state=0)"
   ]
  },
  {
   "cell_type": "markdown",
   "id": "49475014-1c5c-4e23-860c-5a8ccd99cd07",
   "metadata": {},
   "source": [
    "### Heterogeneous GCN Model"
   ]
  },
  {
   "cell_type": "code",
   "execution_count": null,
   "id": "7c4dbc4d-49d0-4893-bd91-e5dbafcea293",
   "metadata": {},
   "outputs": [],
   "source": [
    "from itertools import zip_longest\n",
    "\n",
    "import tensorflow as tf\n",
    "from tensorflow.keras import Model\n",
    "from tensorflow.keras import layers as l\n",
    "\n",
    "from graph_ml.utility.feed_forward_layer import FeedForwardLayer\n",
    "from graph_ml.gnn.gcn.gcn_head import GCNHead\n",
    "from graph_ml.gnn.gcn.gcn_layer import GCNLayer\n",
    "from graph_ml.gnn.gcn.hete_gcn_layer import HeteGCNLayer"
   ]
  },
  {
   "cell_type": "code",
   "execution_count": null,
   "id": "c7db890f-ea1e-4a74-a6bc-482808400f70",
   "metadata": {},
   "outputs": [],
   "source": [
    "class HeteGCNClassifier(Model):\n",
    "    def __init__(self, p_features, norm_p2p_matrix, norm_p2a_matrix, num_classes):\n",
    "        super().__init__()\n",
    "        \n",
    "        _, n_authors = norm_p2a_matrix.shape\n",
    "        norm_p2p_matrix = tf.constant(norm_p2p_matrix, dtype=tf.float32)\n",
    "        norm_p2a_matrix = tf.constant(norm_p2a_matrix, dtype=tf.float32)\n",
    "        \n",
    "        self.author_index = tf.range(n_authors)\n",
    "        self.author_embedding = l.Embedding(n_authors, 128)\n",
    "        \n",
    "        self.paper_features = tf.constant(p_features)\n",
    "        self.p_preprocessing1 = l.Dense(128)\n",
    "        \n",
    "        p2p_gcn1 = GCNHead(norm_p2p_matrix, hidden_units=[128, 128])\n",
    "        a2p_gcn1 = GCNHead(norm_p2a_matrix, hidden_units=[128, 128])\n",
    "        self.pa2p_hete_gcn1 = HeteGCNLayer([p2p_gcn1, a2p_gcn1], combination_func_type='sum', dropout=0.2)\n",
    "        \n",
    "        self.p2a_gcn2 = GCNLayer(tf.transpose(norm_p2a_matrix), hidden_units=[128, 96])\n",
    "        \n",
    "        p2p_gcn3 = GCNHead(norm_p2p_matrix, hidden_units=[96])\n",
    "        a2p_gcn3 = GCNHead(norm_p2a_matrix, hidden_units=[96])\n",
    "        self.pa2p_hete_gcn3 = HeteGCNLayer([p2p_gcn3, a2p_gcn3], combination_func_type='sum')\n",
    "        \n",
    "        self.postprocessing1 = FeedForwardLayer([48])\n",
    "        self.logits1 = l.Dense(num_classes)\n",
    "        self.softmax1 = l.Softmax()\n",
    "        \n",
    "    def call(self, indices):\n",
    "        p_features = self.p_preprocessing1(self.paper_features)\n",
    "        a_features = self.author_embedding(self.author_index)\n",
    "        \n",
    "        p_features = self.pa2p_hete_gcn1((p_features, a_features))\n",
    "        a_features = self.p2a_gcn2(p_features)\n",
    "        p_features = self.pa2p_hete_gcn3((p_features, a_features))\n",
    "        \n",
    "        features = tf.gather(p_features, indices)\n",
    "        \n",
    "        features = self.postprocessing1(features)\n",
    "        logits = self.logits1(features)\n",
    "        return self.softmax1(logits)"
   ]
  },
  {
   "cell_type": "markdown",
   "id": "80ebbc45-c2d5-4810-97ae-e658ae4f456a",
   "metadata": {},
   "source": [
    "### Classify nodes"
   ]
  },
  {
   "cell_type": "code",
   "execution_count": null,
   "id": "3f98dc88-77fb-4971-a700-f5d86bfbc9d6",
   "metadata": {},
   "outputs": [],
   "source": [
    "from tensorflow.keras.optimizers import Adam\n",
    "from tensorflow.keras.losses import SparseCategoricalCrossentropy\n",
    "from tensorflow.keras.metrics import SparseCategoricalAccuracy"
   ]
  },
  {
   "cell_type": "code",
   "execution_count": null,
   "id": "bafff77c-86d2-4aa4-8233-5fc1281de6df",
   "metadata": {},
   "outputs": [],
   "source": [
    "num_classes = len(set(labels))\n",
    "\n",
    "model = HeteGCNClassifier(terms, norm_p2p, norm_p2a, num_classes)\n",
    "model.compile(optimizer=Adam(1e-4), loss=SparseCategoricalCrossentropy(), metrics=[SparseCategoricalAccuracy(name=\"accuracy\")])\n",
    "_ = model.fit(x=train_indices, y=labels[train_indices], batch_size=500, epochs=20, validation_split=0.2, verbose=0)"
   ]
  },
  {
   "cell_type": "code",
   "execution_count": null,
   "id": "f5b081b4-9b1e-4b09-ae55-1d10dd4fc761",
   "metadata": {},
   "outputs": [],
   "source": [
    "from sklearn.metrics import classification_report"
   ]
  },
  {
   "cell_type": "code",
   "execution_count": null,
   "id": "7c49af33-de1a-483b-9bbf-c3e98fda3f26",
   "metadata": {},
   "outputs": [],
   "source": [
    "true_labels = labels[test_indices]\n",
    "predicted_labels = model(test_indices).numpy().argmax(axis=1)\n",
    "print(classification_report(true_labels, predicted_labels))"
   ]
  }
 ],
 "metadata": {
  "kernelspec": {
   "display_name": "tf_conda_3.9",
   "language": "python",
   "name": "tf_conda_3.9"
  },
  "language_info": {
   "codemirror_mode": {
    "name": "ipython",
    "version": 3
   },
   "file_extension": ".py",
   "mimetype": "text/x-python",
   "name": "python",
   "nbconvert_exporter": "python",
   "pygments_lexer": "ipython3",
   "version": "3.9.12"
  }
 },
 "nbformat": 4,
 "nbformat_minor": 5
}
