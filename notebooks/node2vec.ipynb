{
 "cells": [
  {
   "cell_type": "markdown",
   "id": "f4bbadee-076a-49d7-82c5-4e8848ef674e",
   "metadata": {
    "tags": []
   },
   "source": [
    "### Load data"
   ]
  },
  {
   "cell_type": "code",
   "execution_count": null,
   "id": "a1030dcb-c68e-45e9-8dc3-fa1aa5eaf8c0",
   "metadata": {},
   "outputs": [],
   "source": [
    "import os\n",
    "import pandas as pd"
   ]
  },
  {
   "cell_type": "code",
   "execution_count": null,
   "id": "57a3e1b0-82e6-49fc-9adb-b33693d524b4",
   "metadata": {},
   "outputs": [],
   "source": [
    "DATA_DIR = os.path.join(os.path.realpath(''), 'data', 'homogeneous')\n",
    "\n",
    "p2p_df = pd.read_csv(os.path.join(DATA_DIR, 'p2p.csv'))\n",
    "terms_df = pd.read_csv(os.path.join(DATA_DIR, 'terms.csv'))\n",
    "labels_df = pd.read_csv(os.path.join(DATA_DIR, 'labels.csv'))"
   ]
  },
  {
   "cell_type": "code",
   "execution_count": null,
   "id": "a8690610-72b1-4f43-9f1b-a54d036d7fe9",
   "metadata": {},
   "outputs": [],
   "source": [
    "from graph_ml.utility.graph_representation import adj_matrix_to_adj_list"
   ]
  },
  {
   "cell_type": "code",
   "execution_count": null,
   "id": "98274680-f29f-418b-8094-8399961e6943",
   "metadata": {},
   "outputs": [],
   "source": [
    "adj_list = adj_matrix_to_adj_list(p2p_df.to_numpy())\n",
    "terms = terms_df.to_numpy()\n",
    "labels = labels_df['Label'].to_numpy()"
   ]
  },
  {
   "cell_type": "markdown",
   "id": "0ef14d48-e5bc-4778-bad7-cd5652f182b0",
   "metadata": {
    "tags": []
   },
   "source": [
    "### Split data"
   ]
  },
  {
   "cell_type": "code",
   "execution_count": null,
   "id": "34ad3362-f029-48e8-b25e-8519d2b5e1cf",
   "metadata": {},
   "outputs": [],
   "source": [
    "import numpy as np\n",
    "from sklearn.model_selection import train_test_split"
   ]
  },
  {
   "cell_type": "code",
   "execution_count": null,
   "id": "824b1b3d-44fe-4022-81a2-9165f25cf299",
   "metadata": {},
   "outputs": [],
   "source": [
    "train_indices, test_indices, train_labels, test_labels = train_test_split(np.arange(len(labels)), labels, test_size=0.2, random_state=0)"
   ]
  },
  {
   "cell_type": "markdown",
   "id": "5f96117e-f259-4285-b366-5859b490bc61",
   "metadata": {},
   "source": [
    "### Calculate node representations using Node2Vec"
   ]
  },
  {
   "cell_type": "code",
   "execution_count": null,
   "id": "9216a0db-5421-48b7-961f-26dc88e6ed7b",
   "metadata": {},
   "outputs": [],
   "source": [
    "from graph_ml.utility.random_walker import RandomWalker"
   ]
  },
  {
   "cell_type": "code",
   "execution_count": null,
   "id": "02f3a860-da50-47a2-aec6-bfcb686cd572",
   "metadata": {},
   "outputs": [],
   "source": [
    "walks = []\n",
    "walker_params = [(1., 1.), (1.5, 0.5), (0.5, 1.5)]\n",
    "\n",
    "for p, q in walker_params:\n",
    "    walker = RandomWalker(adj_list, p, q)\n",
    "    print(f'{p=}, {q=}:')\n",
    "    walks.extend(walker.generate_walks(num_walks_per_node=2, walk_length=50, print_progress=True))"
   ]
  },
  {
   "cell_type": "code",
   "execution_count": null,
   "id": "4136e5ae-c226-47e7-be7e-b71141da3217",
   "metadata": {},
   "outputs": [],
   "source": [
    "from gensim.models import Word2Vec"
   ]
  },
  {
   "cell_type": "code",
   "execution_count": null,
   "id": "74097635-836f-4e8e-8c3a-f4c98b06ad98",
   "metadata": {},
   "outputs": [],
   "source": [
    "str_walks = [[str(node) for node in walk] for walk in walks]\n",
    "node2vec = Word2Vec(str_walks, vector_size=128, window=5, min_count=0, sg=1, workers=2)\n",
    "node_features = node2vec.wv[map(str, range(len(adj_list)))]"
   ]
  },
  {
   "cell_type": "markdown",
   "id": "b2846b66-3e52-49fa-b697-8f3c3d79143d",
   "metadata": {},
   "source": [
    "### Classify nodes"
   ]
  },
  {
   "cell_type": "code",
   "execution_count": null,
   "id": "f06499a4-692f-40e4-8853-728b3054dd17",
   "metadata": {},
   "outputs": [],
   "source": [
    "import tensorflow as tf\n",
    "from tensorflow.keras import layers as l\n",
    "from tensorflow.keras.models import Sequential\n",
    "from tensorflow.keras.optimizers import Adam\n",
    "from tensorflow.keras.losses import SparseCategoricalCrossentropy\n",
    "from tensorflow.keras.metrics import SparseCategoricalAccuracy"
   ]
  },
  {
   "cell_type": "code",
   "execution_count": null,
   "id": "cd9977b0-833b-48a3-897b-e497e1cb5503",
   "metadata": {},
   "outputs": [],
   "source": [
    "num_classes = len(set(labels))\n",
    "\n",
    "model = Sequential([\n",
    "    l.Dense(64),\n",
    "    l.PReLU(),\n",
    "    l.Dense(32),\n",
    "    l.PReLU(),\n",
    "    l.Dense(num_classes),\n",
    "    l.Softmax()\n",
    "])\n",
    "\n",
    "model.compile(optimizer=Adam(1e-4), loss=SparseCategoricalCrossentropy(), metrics=[SparseCategoricalAccuracy(name=\"accuracy\")])\n",
    "_ = model.fit(x=node_features[train_indices], y=labels[train_indices], batch_size=500, epochs=30, validation_split=0.2, verbose=0)"
   ]
  },
  {
   "cell_type": "code",
   "execution_count": null,
   "id": "c9bedf17-c67b-484b-bb82-b8e28deaae7b",
   "metadata": {},
   "outputs": [],
   "source": [
    "from sklearn.metrics import classification_report"
   ]
  },
  {
   "cell_type": "code",
   "execution_count": null,
   "id": "464178c7-3bdc-4ccc-8b6c-1ca45fb15f97",
   "metadata": {},
   "outputs": [],
   "source": [
    "true_labels = labels[test_indices]\n",
    "predicted_labels = model(node_features[test_indices]).numpy().argmax(axis=1)\n",
    "print(classification_report(true_labels, predicted_labels))"
   ]
  }
 ],
 "metadata": {
  "kernelspec": {
   "display_name": "tf_conda_3.9",
   "language": "python",
   "name": "tf_conda_3.9"
  },
  "language_info": {
   "codemirror_mode": {
    "name": "ipython",
    "version": 3
   },
   "file_extension": ".py",
   "mimetype": "text/x-python",
   "name": "python",
   "nbconvert_exporter": "python",
   "pygments_lexer": "ipython3",
   "version": "3.9.12"
  }
 },
 "nbformat": 4,
 "nbformat_minor": 5
}
