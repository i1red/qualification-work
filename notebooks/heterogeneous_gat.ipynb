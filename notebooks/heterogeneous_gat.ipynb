{
 "cells": [
  {
   "cell_type": "markdown",
   "id": "e4c29cc0-6b29-4013-983a-14335b878a3a",
   "metadata": {
    "tags": []
   },
   "source": [
    "### Load data"
   ]
  },
  {
   "cell_type": "code",
   "execution_count": null,
   "id": "d6b01da2-36c5-4c37-ba76-e93af0c72bfc",
   "metadata": {},
   "outputs": [],
   "source": [
    "import os\n",
    "import pandas as pd"
   ]
  },
  {
   "cell_type": "code",
   "execution_count": null,
   "id": "967b6bdb-c01b-4199-887d-16aaa9507ec9",
   "metadata": {},
   "outputs": [],
   "source": [
    "DATA_DIR = os.path.join(os.path.realpath(''), 'data', 'heterogeneous')\n",
    "\n",
    "p2p_df = pd.read_csv(os.path.join(DATA_DIR, 'p2p.csv'))\n",
    "p2a_df = pd.read_csv(os.path.join(DATA_DIR, 'p2a.csv'))\n",
    "terms_df = pd.read_csv(os.path.join(DATA_DIR, 'terms.csv'))\n",
    "labels_df = pd.read_csv(os.path.join(DATA_DIR, 'labels.csv'))"
   ]
  },
  {
   "cell_type": "code",
   "execution_count": null,
   "id": "1e2bb653-cb62-418a-af9d-dbe991661468",
   "metadata": {},
   "outputs": [],
   "source": [
    "from graph_ml.utility.graph_representation import adj_matrix_to_edges"
   ]
  },
  {
   "cell_type": "code",
   "execution_count": null,
   "id": "4fb0605c-0152-4a44-a64a-24ba1e0fcfd1",
   "metadata": {},
   "outputs": [],
   "source": [
    "p2p_edges = adj_matrix_to_edges(p2p_df.to_numpy())\n",
    "p2a_edges = adj_matrix_to_edges(p2a_df.to_numpy())\n",
    "a2p_edges = adj_matrix_to_edges(p2a_df.to_numpy().T)\n",
    "terms = terms_df.to_numpy()\n",
    "labels = labels_df['Label'].to_numpy()"
   ]
  },
  {
   "cell_type": "markdown",
   "id": "81af3fc4-dcaa-4869-8b59-c05ee634b71d",
   "metadata": {
    "tags": []
   },
   "source": [
    "### Split data"
   ]
  },
  {
   "cell_type": "code",
   "execution_count": null,
   "id": "5405aef0-3614-4ca6-bdb5-c170a7518eef",
   "metadata": {},
   "outputs": [],
   "source": [
    "import numpy as np\n",
    "from sklearn.model_selection import train_test_split"
   ]
  },
  {
   "cell_type": "code",
   "execution_count": null,
   "id": "03649de0-7c1c-46fa-a63b-b505e185699e",
   "metadata": {},
   "outputs": [],
   "source": [
    "train_indices, test_indices, train_labels, test_labels = train_test_split(np.arange(len(labels)), labels, test_size=0.2, random_state=0)"
   ]
  },
  {
   "cell_type": "markdown",
   "id": "a8e53f56-1d69-4851-874d-303d3069afec",
   "metadata": {},
   "source": [
    "### Heterogeneous GAT Model"
   ]
  },
  {
   "cell_type": "code",
   "execution_count": null,
   "id": "a3818e19-41f3-4687-9ad2-1c682d9ddcfc",
   "metadata": {},
   "outputs": [],
   "source": [
    "from itertools import zip_longest\n",
    "\n",
    "import tensorflow as tf\n",
    "from tensorflow.keras import Model\n",
    "from tensorflow.keras import layers as l\n",
    "from tensorflow.keras import activations as a\n",
    "from tensorflow.keras.models import Sequential\n",
    "\n",
    "from graph_ml.utility.feed_forward_layer import FeedForwardLayer\n",
    "from graph_ml.gnn.gat.gat_layer import MultiHeadGATLayer\n",
    "from graph_ml.gnn.gat.hete_gat_multi_head import HeteGATMultiHead\n",
    "from graph_ml.gnn.gat.hete_gat_layer import HeteGATLayer"
   ]
  },
  {
   "cell_type": "code",
   "execution_count": null,
   "id": "4df07cde-b720-42ad-b76a-a99d96417d40",
   "metadata": {},
   "outputs": [],
   "source": [
    "class HeteGATClassifier(Model):\n",
    "    def __init__(self, p_features, n_papers, n_authors, p2p_edges, p2a_edges, a2p_edges, num_classes):\n",
    "        super().__init__()\n",
    "        \n",
    "        p2p_edges = tf.constant(p2p_edges)\n",
    "        p2a_edges = tf.constant(p2a_edges)\n",
    "        a2p_edges = tf.constant(a2p_edges)\n",
    "        \n",
    "        self.author_index = tf.range(n_authors)\n",
    "        self.author_embedding = l.Embedding(n_authors, 128)\n",
    "        \n",
    "        self.paper_features = tf.constant(p_features)\n",
    "        self.p_preprocessing1 = l.Dense(128)\n",
    "        \n",
    "        p2p_gat1 = HeteGATMultiHead(p2p_edges, attention_adj_matrix_shape=(n_papers, n_papers), hidden_units=[64, 64])\n",
    "        a2p_gat1 = HeteGATMultiHead(p2a_edges, attention_adj_matrix_shape=(n_papers, n_authors), hidden_units=[64, 64])\n",
    "        self.pa2p_rgat1 = HeteGATLayer([p2p_gat1, a2p_gat1])\n",
    "        \n",
    "        self.p2a_gat2 = MultiHeadGATLayer(\n",
    "            a2p_edges, attention_adj_matrix_shape=(n_authors, n_papers), hidden_units=[64, 32],\n",
    "            add_self_features=False\n",
    "        )\n",
    "        \n",
    "        p2p_gat3 = HeteGATMultiHead(p2p_edges, attention_adj_matrix_shape=(n_papers, n_papers), hidden_units=[32])\n",
    "        a2p_gat3 = HeteGATMultiHead(p2a_edges, attention_adj_matrix_shape=(n_papers, n_authors), hidden_units=[32])\n",
    "        self.pa2p_rgat3 = HeteGATLayer([p2p_gat3, a2p_gat3])\n",
    "        \n",
    "        self.postprocessing1 = FeedForwardLayer([64])\n",
    "        self.logits1 = l.Dense(num_classes)\n",
    "        self.softmax1 = l.Softmax()\n",
    "        \n",
    "    def call(self, indices):\n",
    "        p_features = self.p_preprocessing1(self.paper_features)\n",
    "        a_features = self.author_embedding(self.author_index)\n",
    "        \n",
    "        p_features = self.pa2p_rgat1(((p_features,) * 2, (p_features, a_features)))\n",
    "        a_features = self.p2a_gat2(p_features)\n",
    "        p_features = self.pa2p_rgat3(((p_features,) * 2, (p_features, a_features)))\n",
    "        \n",
    "        features = tf.gather(p_features, indices)\n",
    "        \n",
    "        features = self.postprocessing1(features)\n",
    "        logits = self.logits1(features)\n",
    "        return self.softmax1(logits)"
   ]
  },
  {
   "cell_type": "markdown",
   "id": "51101a4c-0578-4a11-bd36-c83320380e67",
   "metadata": {},
   "source": [
    "### Classify nodes"
   ]
  },
  {
   "cell_type": "code",
   "execution_count": null,
   "id": "3b9fee4c-da21-4c4e-b9e8-d9a123dc445a",
   "metadata": {},
   "outputs": [],
   "source": [
    "import warnings\n",
    "from tensorflow.keras.optimizers import Adam\n",
    "from tensorflow.keras.losses import SparseCategoricalCrossentropy\n",
    "from tensorflow.keras.metrics import SparseCategoricalAccuracy"
   ]
  },
  {
   "cell_type": "code",
   "execution_count": null,
   "id": "951cff2f-fba8-4ef2-9163-c622a58aca32",
   "metadata": {},
   "outputs": [],
   "source": [
    "warnings.filterwarnings('ignore')\n",
    "\n",
    "num_classes = len(set(labels))\n",
    "n_papers, n_authors = p2a_df.shape\n",
    "\n",
    "model = HeteGATClassifier(terms, n_papers, n_authors, p2p_edges, p2a_edges, a2p_edges, num_classes)\n",
    "model.compile(optimizer=Adam(1e-4), loss=SparseCategoricalCrossentropy(), metrics=[SparseCategoricalAccuracy(name=\"accuracy\")])\n",
    "_ = model.fit(x=train_indices, y=labels[train_indices], batch_size=500, epochs=20, validation_split=0.2, verbose=0)"
   ]
  },
  {
   "cell_type": "code",
   "execution_count": null,
   "id": "25839562-c1d2-4d54-ad1e-9a463fb179d2",
   "metadata": {},
   "outputs": [],
   "source": [
    "from sklearn.metrics import classification_report"
   ]
  },
  {
   "cell_type": "code",
   "execution_count": null,
   "id": "67d8ecff-ae68-4b3d-be74-e290ccbc48db",
   "metadata": {},
   "outputs": [],
   "source": [
    "true_labels = labels[test_indices]\n",
    "predicted_labels = model(test_indices).numpy().argmax(axis=1)\n",
    "print(classification_report(true_labels, predicted_labels))"
   ]
  }
 ],
 "metadata": {
  "kernelspec": {
   "display_name": "tf_conda_3.9",
   "language": "python",
   "name": "tf_conda_3.9"
  },
  "language_info": {
   "codemirror_mode": {
    "name": "ipython",
    "version": 3
   },
   "file_extension": ".py",
   "mimetype": "text/x-python",
   "name": "python",
   "nbconvert_exporter": "python",
   "pygments_lexer": "ipython3",
   "version": "3.9.12"
  }
 },
 "nbformat": 4,
 "nbformat_minor": 5
}
